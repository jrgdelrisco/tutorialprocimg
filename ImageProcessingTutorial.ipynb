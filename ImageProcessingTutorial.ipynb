{
 "cells": [
  {
   "cell_type": "markdown",
   "metadata": {},
   "source": [
    "# Tutorial sobre procesamiento de imágenes"
   ]
  },
  {
   "cell_type": "markdown",
   "metadata": {},
   "source": [
    "En este tutorial vamos a ver las herramientas básicas para trabajar con imágenes digitales usando Python. Para esto emplearemos un mínimo de paquetes disponibles para el Procesamiento de Imágenes Digitales."
   ]
  },
  {
   "cell_type": "markdown",
   "metadata": {},
   "source": [
    "## 1. Algunas utilidades de IPython Notebook... solo algunas"
   ]
  },
  {
   "cell_type": "markdown",
   "metadata": {},
   "source": [
    "### Del sitio oficial:\n",
    "\n",
    "__\"__The goal of IPython is to create a comprehensive environment for __interactive__ and __exploratory computing__. To support this goal, IPython has three main components:\n",
    "* An __enhanced interactive Python shell__.\n",
    "* A __decoupled two-process communication model__, which allows for multiple clients to connect to a computation kernel, most notably the web-based notebook.\n",
    "* An architecture for __interactive parallel computing__.\n",
    "\n",
    "All of IPython is open source (released under the revised BSD license).__\"__\n",
    "\n",
    "### Sobre IPython Notebook:  \n",
    "\n",
    "__\"__The notebook __extends__ the console-based approach to __interactive computing__ in a qualitatively new direction, providing a web-based application suitable for capturing the whole computation process: __developing__, __documenting__, and __executing code__, as well as __communicating the results__. The IPython notebook combines two components:\n",
    "\n",
    "* __A web application__: a browser-based tool for interactive authoring of documents which combine explanatory text, mathematics, computations and their rich media output.\n",
    "\n",
    "* __Notebook documents__: a representation of all content visible in the web application, including inputs and outputs of the computations, explanatory text, mathematics, images, and rich media representations of objects.__\"__"
   ]
  },
  {
   "cell_type": "markdown",
   "metadata": {},
   "source": [
    "### 1.1. Navegación\n",
    "* Tipos de celdas\n",
    "* Shift-Enter, Ctrl-Enter, h\n",
    "* Comandos del sistema**!**\n",
    "* Obtener ayuda**?**\n",
    "* Magic functions (**%lsmagic**, **%alias**, **%loadpy**, **%save**, **%run** ...)"
   ]
  },
  {
   "cell_type": "markdown",
   "metadata": {},
   "source": [
    "#### Para Python 2.7"
   ]
  },
  {
   "cell_type": "code",
   "execution_count": null,
   "metadata": {
    "collapsed": true
   },
   "outputs": [],
   "source": [
    "from __future__ import print_function"
   ]
  },
  {
   "cell_type": "markdown",
   "metadata": {},
   "source": [
    "#### Continuando con el tutorial"
   ]
  },
  {
   "cell_type": "code",
   "execution_count": null,
   "metadata": {},
   "outputs": [],
   "source": [
    "b = 'py'\n",
    "l = !dir | grep $b\n",
    "for i in l:\n",
    "    print(i)"
   ]
  },
  {
   "cell_type": "code",
   "execution_count": null,
   "metadata": {},
   "outputs": [],
   "source": [
    "import scipy as sp\n",
    "sp?"
   ]
  },
  {
   "cell_type": "code",
   "execution_count": null,
   "metadata": {},
   "outputs": [],
   "source": [
    "%lsmagic"
   ]
  },
  {
   "cell_type": "code",
   "execution_count": null,
   "metadata": {},
   "outputs": [],
   "source": [
    "%run -d collatz.py"
   ]
  },
  {
   "cell_type": "code",
   "execution_count": null,
   "metadata": {},
   "outputs": [],
   "source": [
    "# %load collatz.py\n",
    "from __future__ import print_function\n",
    "\n",
    "\n",
    "def collatz(n):\n",
    "    print(\"Collatz sequence of {}:\".format(n))\n",
    "    while n != 1:\n",
    "        if n % 2:\n",
    "            tmp = 3 * n + 1\n",
    "            print(\"n = 3 x {} + 1 = {}\".format(n, tmp))\n",
    "        else:\n",
    "            tmp = n // 2\n",
    "            print(\"n = {} / 2 = {}\".format(n, tmp))\n",
    "        n = tmp\n",
    "\n",
    "\n",
    "collatz(7)\n"
   ]
  },
  {
   "cell_type": "code",
   "execution_count": null,
   "metadata": {},
   "outputs": [],
   "source": [
    "%save collatz.py 8"
   ]
  },
  {
   "cell_type": "markdown",
   "metadata": {},
   "source": [
    "### 1.2. Cargando lo \"imprescindible\""
   ]
  },
  {
   "cell_type": "code",
   "execution_count": null,
   "metadata": {},
   "outputs": [],
   "source": [
    "%pylab inline"
   ]
  },
  {
   "cell_type": "markdown",
   "metadata": {},
   "source": [
    "Un ejemplo bien sencillo de lo que trae %pylab."
   ]
  },
  {
   "cell_type": "code",
   "execution_count": null,
   "metadata": {},
   "outputs": [],
   "source": [
    "with xkcd():\n",
    "    fig = plt.figure()\n",
    "    ax = fig.add_axes((0.1, 0.2, 0.8, 0.7))\n",
    "    ax.spines['right'].set_color('none')\n",
    "    ax.spines['top'].set_color('none')\n",
    "    plt.xticks([])\n",
    "    plt.yticks([])\n",
    "    ax.set_ylim([-30, 10])\n",
    "\n",
    "    data = np.ones(100)\n",
    "    data[70:] -= np.arange(30)\n",
    "\n",
    "    plt.annotate(\n",
    "        'THE DAY I DISCOVERED BAD REGGAETON',\n",
    "        xy=(70, 1), arrowprops=dict(arrowstyle='->'), xytext=(15, -10))\n",
    "\n",
    "    plt.plot(data)\n",
    "\n",
    "    plt.xlabel('time')\n",
    "    plt.ylabel('my taste for popular music')"
   ]
  },
  {
   "cell_type": "markdown",
   "metadata": {},
   "source": [
    "## 2. Introducción a la Morfología Matemática"
   ]
  },
  {
   "cell_type": "markdown",
   "metadata": {},
   "source": [
    "* Soille, Pierre; Morphological Image Analysis, Principles and Applications, 2nd Ed.\n",
    "* <a href=\"http://www.mamba-image.org\">Mamba</a>\n"
   ]
  },
  {
   "cell_type": "markdown",
   "metadata": {},
   "source": [
    "## 3. Trabajando con imágenes"
   ]
  },
  {
   "cell_type": "markdown",
   "metadata": {},
   "source": [
    "### 3.1. Algunos paquetes interesantes\n",
    "* __numpy__\n",
    "* __scipy__ (__ndimage__)\n",
    "* __cython__\n",
    "* skimage\n",
    "* sklearn\n",
    "* opencv (no está en Anaconda)"
   ]
  },
  {
   "cell_type": "markdown",
   "metadata": {},
   "source": [
    "### 3.2. Cargando lo \"necesario\""
   ]
  },
  {
   "cell_type": "code",
   "execution_count": null,
   "metadata": {
    "collapsed": true
   },
   "outputs": [],
   "source": [
    "from scipy.misc import imread, imsave  # mas sencillos que en plt"
   ]
  },
  {
   "cell_type": "code",
   "execution_count": null,
   "metadata": {},
   "outputs": [],
   "source": [
    "imcolor = imread('fish.jpg')\n",
    "imshow(imcolor)"
   ]
  },
  {
   "cell_type": "code",
   "execution_count": null,
   "metadata": {},
   "outputs": [],
   "source": [
    "imgray = imread('fish.jpg', True)\n",
    "imshow(imgray, cmap=cm.gray)"
   ]
  },
  {
   "cell_type": "markdown",
   "metadata": {},
   "source": [
    "### 3.3. Características de una imagen... o de una matriz de numpy"
   ]
  },
  {
   "cell_type": "code",
   "execution_count": null,
   "metadata": {},
   "outputs": [],
   "source": [
    "print(\"color\")\n",
    "print(imcolor.shape)\n",
    "print(imcolor.dtype)\n",
    "print(imcolor[0,0])  # pixel en i,j\n",
    "\n",
    "print(\"\\ngray scale\")\n",
    "print(imgray.shape)\n",
    "print(imgray.dtype)\n",
    "print(imgray[0,0]) "
   ]
  },
  {
   "cell_type": "code",
   "execution_count": null,
   "metadata": {},
   "outputs": [],
   "source": [
    "imgray = array(imgray, dtype=uint8)\n",
    "print(imgray.dtype)\n",
    "imshow(imgray, cmap=cm.gray)"
   ]
  },
  {
   "cell_type": "code",
   "execution_count": null,
   "metadata": {},
   "outputs": [],
   "source": [
    "imtest = imcolor.copy()  # rgb\n",
    "#immono = imtest[:,:,2]\n",
    "imtest[:, :, 0] = 0\n",
    "imtest[:, :, 1] = 0\n",
    "imshow(imtest)"
   ]
  },
  {
   "cell_type": "code",
   "execution_count": null,
   "metadata": {},
   "outputs": [],
   "source": [
    "imshow(imgray.T, cmap=cm.gray)  # transpuesta de una matriz (importante: en escala de grises)"
   ]
  },
  {
   "cell_type": "markdown",
   "metadata": {},
   "source": [
    "Cómo arreglar lo que sucede a continuación? Por qué ocurre?"
   ]
  },
  {
   "cell_type": "code",
   "execution_count": null,
   "metadata": {},
   "outputs": [],
   "source": [
    "imtest = imgray[200:800, 400:1400]\n",
    "imtest += 50\n",
    "imshow(imgray, cmap=cm.gray)"
   ]
  },
  {
   "cell_type": "code",
   "execution_count": null,
   "metadata": {},
   "outputs": [],
   "source": [
    "imsave('greyfish.jpg', imgray) # salvar en escala de grises"
   ]
  },
  {
   "cell_type": "markdown",
   "metadata": {},
   "source": [
    "### 3.4. Cargando lo \"suficiente\": Cython"
   ]
  },
  {
   "cell_type": "markdown",
   "metadata": {},
   "source": [
    "### Del sitio oficial:  \n",
    "\"Cython is a **programming language** that makes **writing C extensions** for the Python language **as easy as Python itself**. It aims to become a **superset of the Python language** which gives it high-level, object-oriented, functional, and dynamic programming. Its main feature on top of these is support for **optional static type declarations** as part of the language. The source code gets translated into **optimized C/C++ code** and **compiled** as Python **extension modules**. This allows for both very fast program execution and **tight integration with external C libraries**, while keeping up the high programmer productivity for which the Python language is well known.\""
   ]
  },
  {
   "cell_type": "code",
   "execution_count": null,
   "metadata": {},
   "outputs": [],
   "source": [
    "imcolor = imread('fish.jpg')\n",
    "imgray = array(imread('fish.jpg', True), dtype=uint8)  # escala de grises con valores enteros en [0,255]\n",
    "\n",
    "fig, ax = plt.subplots(nrows=1, ncols=2, figsize=(16, 8))\n",
    "\n",
    "ax[0].imshow(imcolor)\n",
    "ax[0].axis('off')\n",
    "ax[0].set_title('color')\n",
    "ax[1].imshow(imgray, cmap='gray')\n",
    "ax[1].axis('off')\n",
    "ax[1].set_title('gray')"
   ]
  },
  {
   "cell_type": "markdown",
   "metadata": {},
   "source": [
    "## El problema  \n",
    "Supongamos que no contamos con la implementanión del filtro __gradiente morfológico__ $g_B(f) = \\delta_B(f) - \\varepsilon_B(f)$ para un elemento estructurante en forma de cruz. Vamos a desarrollar un filtro que nos devuelva el gradiente morfológico de una imagen, y compararemos el tiempo de ejecución de este con los de algunas implementaciones existentes."
   ]
  },
  {
   "cell_type": "code",
   "execution_count": null,
   "metadata": {
    "collapsed": true
   },
   "outputs": [],
   "source": [
    "from scipy.ndimage import morphology as morph"
   ]
  },
  {
   "cell_type": "code",
   "execution_count": null,
   "metadata": {},
   "outputs": [],
   "source": [
    "se = zeros((3,3), dtype=uint8)  # elemento estructurante cruz\n",
    "se[1,:] = se[:,1] = 1\n",
    "se"
   ]
  },
  {
   "cell_type": "code",
   "execution_count": null,
   "metadata": {},
   "outputs": [],
   "source": [
    "#%%timeit\n",
    "grad = morph.morphological_gradient(imgray, structure=se)"
   ]
  },
  {
   "cell_type": "code",
   "execution_count": null,
   "metadata": {},
   "outputs": [],
   "source": [
    "imshow(grad, cmap=cm.gray)"
   ]
  },
  {
   "cell_type": "code",
   "execution_count": null,
   "metadata": {},
   "outputs": [],
   "source": [
    "#%%timeit\n",
    "dil = morph.grey_dilation(imgray, structure=se)\n",
    "ero = morph.grey_erosion(imgray, structure=se)\n",
    "grad = dil - ero"
   ]
  },
  {
   "cell_type": "code",
   "execution_count": null,
   "metadata": {},
   "outputs": [],
   "source": [
    "fig, ax = plt.subplots(nrows=1, ncols=3, figsize=(16, 8))\n",
    "\n",
    "ax[0].imshow(dil, cmap=cm.gray)\n",
    "ax[0].axis('off')\n",
    "ax[0].set_title('dilation')\n",
    "ax[1].imshow(ero, cmap=cm.gray)\n",
    "ax[1].axis('off')\n",
    "ax[1].set_title('erosion')\n",
    "ax[2].imshow(grad, cmap=cm.gray)\n",
    "ax[2].axis('off')\n",
    "ax[2].set_title('gradient')"
   ]
  },
  {
   "cell_type": "markdown",
   "metadata": {},
   "source": [
    "### Definiendo una función gradiente morfológico"
   ]
  },
  {
   "cell_type": "code",
   "execution_count": null,
   "metadata": {},
   "outputs": [],
   "source": [
    "def gradient_1(im):\n",
    "    h, w = im.shape\n",
    "    grad = zeros(im.shape, dtype=uint8)\n",
    "    for i in range(h):\n",
    "        for j in range(w):\n",
    "            pxmax = im[i, j]\n",
    "            pxmax = max(pxmax, im[i-1, j] if i - 1 > 0 else 0)\n",
    "            pxmax = max(pxmax, im[i, j+1] if j + 1 < w else 0)\n",
    "            pxmax = max(pxmax, im[i+1, j] if i + 1 < h else 0)\n",
    "            pxmax = max(pxmax, im[i, j-1] if j - 1 > 0 else 0)\n",
    "            \n",
    "            pxmin = im[i, j]\n",
    "            pxmin = min(pxmin, im[i-1, j] if i - 1 > 0 else 255)\n",
    "            pxmin = min(pxmin, im[i, j+1] if j + 1 < w else 255)\n",
    "            pxmin = min(pxmin, im[i+1, j] if i + 1 < h else 255)\n",
    "            pxmin = min(pxmin, im[i, j-1] if j - 1 > 0 else 255)\n",
    "            grad[i, j] = pxmax - pxmin\n",
    "    return grad"
   ]
  },
  {
   "cell_type": "code",
   "execution_count": null,
   "metadata": {},
   "outputs": [],
   "source": [
    "%%timeit\n",
    "grad = gradient_1(imgray)"
   ]
  },
  {
   "cell_type": "code",
   "execution_count": null,
   "metadata": {},
   "outputs": [],
   "source": [
    "imshow(grad, cmap=cm.gray)"
   ]
  },
  {
   "cell_type": "markdown",
   "metadata": {},
   "source": [
    "### Acceso rápido a los arrays de numpy"
   ]
  },
  {
   "cell_type": "code",
   "execution_count": null,
   "metadata": {},
   "outputs": [],
   "source": [
    "def gradient_2(im):\n",
    "    h, w = im.shape\n",
    "    grad = zeros(im.shape, dtype=uint8)\n",
    "    for i in range(h):\n",
    "        for j in range(w):\n",
    "            pxmax = im.item(i, j)\n",
    "            pxmax = max(pxmax, im.item(i-1, j) if i - 1 > 0 else 0)\n",
    "            pxmax = max(pxmax, im.item(i, j+1) if j + 1 < w else 0)\n",
    "            pxmax = max(pxmax, im.item(i+1, j) if i + 1 < h else 0)\n",
    "            pxmax = max(pxmax, im.item(i, j-1) if j - 1 > 0 else 0)\n",
    "            \n",
    "            pxmin = im.item(i, j)\n",
    "            pxmin = min(pxmin, im.item(i-1, j) if i - 1 > 0 else 255)\n",
    "            pxmin = min(pxmin, im.item(i, j+1) if j + 1 < w else 255)\n",
    "            pxmin = min(pxmin, im.item(i+1, j) if i + 1 < h else 255)\n",
    "            pxmin = min(pxmin, im.item(i, j-1) if j - 1 > 0 else 255)\n",
    "            grad.itemset(i, j, pxmax - pxmin)\n",
    "    return grad"
   ]
  },
  {
   "cell_type": "code",
   "execution_count": null,
   "metadata": {},
   "outputs": [],
   "source": [
    "%%timeit\n",
    "#%%prun\n",
    "grad = gradient_2(imgray)"
   ]
  },
  {
   "cell_type": "code",
   "execution_count": null,
   "metadata": {},
   "outputs": [],
   "source": [
    "imshow(grad, cmap=cm.gray)"
   ]
  },
  {
   "cell_type": "markdown",
   "metadata": {},
   "source": [
    "### Cargando cythonmagic"
   ]
  },
  {
   "cell_type": "code",
   "execution_count": null,
   "metadata": {},
   "outputs": [],
   "source": [
    "%load_ext Cython"
   ]
  },
  {
   "cell_type": "code",
   "execution_count": null,
   "metadata": {},
   "outputs": [],
   "source": [
    "%%cython\n",
    "import numpy as np\n",
    "from itertools import product\n",
    "\n",
    "cdef unsigned char maxval(unsigned char a, unsigned char b):\n",
    "    return a if a > b else b\n",
    "\n",
    "cdef unsigned char minval(unsigned char a, unsigned char b):\n",
    "    return a if a < b else b\n",
    "\n",
    "def gradient_3(im):\n",
    "    #verificar que im sea de tipo uint8 de un solo canal\n",
    "    cdef int i, j, h, w\n",
    "    cdef unsigned char pxmax, pxmin\n",
    "    h, w = im.shape\n",
    "    grad = np.zeros(im.shape, dtype=np.uint8)\n",
    "    for i, j in product(range(h), range(w)):\n",
    "        pxmax = im.item(i, j)\n",
    "        pxmax = maxval(pxmax, im.item(i-1, j) if i - 1 > 0 else 0)\n",
    "        pxmax = maxval(pxmax, im.item(i, j+1) if j + 1 < w else 0)\n",
    "        pxmax = maxval(pxmax, im.item(i+1, j) if i + 1 < h else 0)\n",
    "        pxmax = maxval(pxmax, im.item(i, j-1) if j - 1 > 0 else 0)\n",
    "        \n",
    "        pxmin = im.item(i, j)\n",
    "        pxmin = minval(pxmin, im.item(i-1, j) if i - 1 > 0 else 255)\n",
    "        pxmin = minval(pxmin, im.item(i, j+1) if j + 1 < w else 255)\n",
    "        pxmin = minval(pxmin, im.item(i+1, j) if i + 1 < h else 255)\n",
    "        pxmin = minval(pxmin, im.item(i, j-1) if j - 1 > 0 else 255)\n",
    "        grad.itemset(i, j, pxmax - pxmin)\n",
    "    return grad"
   ]
  },
  {
   "cell_type": "code",
   "execution_count": null,
   "metadata": {},
   "outputs": [],
   "source": [
    "%%timeit\n",
    "grad = gradient_3(imgray)"
   ]
  },
  {
   "cell_type": "code",
   "execution_count": null,
   "metadata": {},
   "outputs": [],
   "source": [
    "imshow(grad, cmap=cm.gray)"
   ]
  },
  {
   "cell_type": "markdown",
   "metadata": {},
   "source": [
    "### Luego de un estudio de Cython y su integración con NumPy..."
   ]
  },
  {
   "cell_type": "code",
   "execution_count": null,
   "metadata": {},
   "outputs": [],
   "source": [
    "%%cython\n",
    "\n",
    "import numpy as np\n",
    "cimport numpy as np\n",
    "\n",
    "UINT8_DTYPE = np.uint8\n",
    "ctypedef np.uint8_t UINT8_DTYPE_t\n",
    "\n",
    "cdef inline UINT8_DTYPE_t maxval(UINT8_DTYPE_t a, UINT8_DTYPE_t b): return a if a >= b else b\n",
    "cdef inline UINT8_DTYPE_t minval(UINT8_DTYPE_t a, UINT8_DTYPE_t b): return a if a <= b else b\n",
    "\n",
    "def gradient_fast(np.ndarray[UINT8_DTYPE_t, ndim=2] im):\n",
    "    cdef int i, j, h, w\n",
    "    cdef UINT8_DTYPE_t pxmax, pxmin\n",
    "    h = im.shape[0]\n",
    "    w = im.shape[1]\n",
    "    cdef np.ndarray[UINT8_DTYPE_t, ndim=2] grad = np.zeros((h, w), dtype=UINT8_DTYPE)\n",
    "    \n",
    "    for i in range(h):\n",
    "        for j in range(w):\n",
    "            pxmax = im[i, j]\n",
    "            pxmax = maxval(pxmax, im[i-1, j] if i - 1 > 0 else pxmax)\n",
    "            pxmax = maxval(pxmax, im[i, j+1] if j + 1 < w else pxmax)\n",
    "            pxmax = maxval(pxmax, im[i+1, j] if i + 1 < h else pxmax)\n",
    "            pxmax = maxval(pxmax, im[i, j-1] if j - 1 > 0 else pxmax)\n",
    "            \n",
    "            pxmin = im[i, j]\n",
    "            pxmin = minval(pxmin, im[i-1, j] if i - 1 > 0 else pxmin)\n",
    "            pxmin = minval(pxmin, im[i, j+1] if j + 1 < w else pxmin)\n",
    "            pxmin = minval(pxmin, im[i+1, j] if i + 1 < h else pxmin)\n",
    "            pxmin = minval(pxmin, im[i, j-1] if j - 1 > 0 else pxmin)\n",
    "            grad[i, j] = pxmax - pxmin\n",
    "    return grad"
   ]
  },
  {
   "cell_type": "code",
   "execution_count": null,
   "metadata": {},
   "outputs": [],
   "source": [
    "%%timeit\n",
    "grad = gradient_fast(imgray)"
   ]
  },
  {
   "cell_type": "code",
   "execution_count": null,
   "metadata": {},
   "outputs": [],
   "source": [
    "imshow(grad, cmap=cm.gray)"
   ]
  },
  {
   "cell_type": "markdown",
   "metadata": {},
   "source": [
    "### Detalles... los \"*if*\" tienen su costo también"
   ]
  },
  {
   "cell_type": "code",
   "execution_count": null,
   "metadata": {},
   "outputs": [],
   "source": [
    "%%cython\n",
    "\n",
    "import cython\n",
    "import numpy as np\n",
    "cimport numpy as np\n",
    "\n",
    "UINT8_DTYPE = np.uint8\n",
    "ctypedef np.uint8_t UINT8_DTYPE_t\n",
    "\n",
    "cdef inline UINT8_DTYPE_t maxval(UINT8_DTYPE_t a, UINT8_DTYPE_t b): return a if a >= b else b\n",
    "cdef inline UINT8_DTYPE_t minval(UINT8_DTYPE_t a, UINT8_DTYPE_t b): return a if a <= b else b\n",
    "\n",
    "def gradient_faster(np.ndarray[UINT8_DTYPE_t, ndim=2] im):\n",
    "    cdef:\n",
    "        int i, j, h, w\n",
    "        UINT8_DTYPE_t pxmax, pxmin\n",
    "\n",
    "    h = im.shape[0]\n",
    "    w = im.shape[1]\n",
    "    cdef np.ndarray[UINT8_DTYPE_t, ndim=2] grad = np.zeros((h + 2, w + 2), dtype=UINT8_DTYPE)\n",
    "    \n",
    "    for i in range(1, h - 1):\n",
    "        for j in range(1, w - 1):\n",
    "            pxmax = im[i, j]\n",
    "            pxmax = maxval(pxmax, im[i-1, j])\n",
    "            pxmax = maxval(pxmax, im[i, j+1])\n",
    "            pxmax = maxval(pxmax, im[i+1, j])\n",
    "            pxmax = maxval(pxmax, im[i, j-1])\n",
    "            \n",
    "            pxmin = im[i, j]\n",
    "            pxmin = minval(pxmin, im[i-1, j])\n",
    "            pxmin = minval(pxmin, im[i, j+1])\n",
    "            pxmin = minval(pxmin, im[i+1, j])\n",
    "            pxmin = minval(pxmin, im[i, j-1])\n",
    "            grad[i, j] = pxmax - pxmin\n",
    "    return grad[1:-1, 1:-1]"
   ]
  },
  {
   "cell_type": "code",
   "execution_count": null,
   "metadata": {},
   "outputs": [],
   "source": [
    "%%timeit\n",
    "grad = gradient_faster(imgray)"
   ]
  },
  {
   "cell_type": "code",
   "execution_count": null,
   "metadata": {},
   "outputs": [],
   "source": [
    "imshow(grad, cmap=cm.gray)"
   ]
  },
  {
   "cell_type": "markdown",
   "metadata": {},
   "source": [
    "### Listo para usar?\n",
    "Simplemente salvamos el código en un fichero *.pyx*. Luego se crea un fichero *setup.py* y lo compilamos con el comando *python setup.py build_ext --inplace*. Esto creará un módulo .so (en linux) listo para importar desde código *Python*. El código de *setup.py* es muy sencillo:  \n",
    "<code>\n",
    "from distutils.core import setup  \n",
    "from Cython.Build import cythonize  \n",
    "  \n",
    "setup(ext_modules = cythonize(\"gradient.pyx\"))\n",
    "</code>"
   ]
  },
  {
   "cell_type": "code",
   "execution_count": null,
   "metadata": {},
   "outputs": [],
   "source": [
    "%save -r gradient 86"
   ]
  },
  {
   "cell_type": "code",
   "execution_count": null,
   "metadata": {},
   "outputs": [],
   "source": [
    "!mv gradient.ipy gradient.pyx"
   ]
  },
  {
   "cell_type": "code",
   "execution_count": null,
   "metadata": {},
   "outputs": [],
   "source": [
    "!gedit gradient.pyx  # para quitar %%cython"
   ]
  },
  {
   "cell_type": "code",
   "execution_count": null,
   "metadata": {},
   "outputs": [],
   "source": [
    "!gedit setup.py  # crear este fichero con lo dicho anteriormente"
   ]
  },
  {
   "cell_type": "code",
   "execution_count": null,
   "metadata": {},
   "outputs": [],
   "source": [
    "!python setup.py build_ext --inplace"
   ]
  },
  {
   "cell_type": "code",
   "execution_count": null,
   "metadata": {},
   "outputs": [],
   "source": [
    "!ls  # para ver lo que se genera"
   ]
  },
  {
   "cell_type": "code",
   "execution_count": null,
   "metadata": {},
   "outputs": [],
   "source": [
    "from gradient import gradient_faster as the_fastest  # probando resultados"
   ]
  },
  {
   "cell_type": "code",
   "execution_count": null,
   "metadata": {},
   "outputs": [],
   "source": [
    "#%%timeit\n",
    "imgrad = the_fastest(imgray)"
   ]
  },
  {
   "cell_type": "code",
   "execution_count": null,
   "metadata": {},
   "outputs": [],
   "source": [
    "imshow(imgrad, cmap=cm.gray)"
   ]
  }
 ],
 "metadata": {
  "anaconda-cloud": {},
  "kernelspec": {
   "display_name": "Python 3",
   "language": "python",
   "name": "python3"
  },
  "language_info": {
   "codemirror_mode": {
    "name": "ipython",
    "version": 3
   },
   "file_extension": ".py",
   "mimetype": "text/x-python",
   "name": "python",
   "nbconvert_exporter": "python",
   "pygments_lexer": "ipython3",
   "version": "3.6.1"
  }
 },
 "nbformat": 4,
 "nbformat_minor": 1
}
